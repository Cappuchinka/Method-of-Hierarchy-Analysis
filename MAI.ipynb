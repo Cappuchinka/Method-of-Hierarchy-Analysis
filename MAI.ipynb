{
 "cells": [
  {
   "cell_type": "code",
   "id": "initial_id",
   "metadata": {
    "collapsed": true,
    "ExecuteTime": {
     "end_time": "2025-06-10T21:06:09.272002Z",
     "start_time": "2025-06-10T21:06:08.594738Z"
    }
   },
   "source": [
    "import pandas as pd\n",
    "\n",
    "pd.set_option('display.precision', 3)\n",
    "from util import *"
   ],
   "outputs": [],
   "execution_count": 1
  },
  {
   "metadata": {},
   "cell_type": "markdown",
   "source": "# Задание матриц",
   "id": "2063cfcee3af47c"
  },
  {
   "metadata": {
    "ExecuteTime": {
     "end_time": "2025-06-10T21:06:09.281261Z",
     "start_time": "2025-06-10T21:06:09.273009Z"
    }
   },
   "cell_type": "code",
   "source": [
    "criteria = []\n",
    "names_criteria = []\n",
    "number_criteria = None\n",
    "\n",
    "with open('./resources/criteria.csv', 'r', encoding='utf-8-sig') as csvfile: \n",
    "    csvreader = csv.reader(csvfile, delimiter=';')\n",
    "    names_criteria = next(csvreader)\n",
    "    number_criteria = len(names_criteria)\n",
    "    for row in csvreader:\n",
    "        parsed_row = [parse_value(item) for item in row]\n",
    "        criteria.append(parsed_row)\n",
    "        \n",
    "all_alternatives = []\n",
    "names_alternatives = []\n",
    "for i in range(number_criteria):\n",
    "    all_alternatives.append([])\n",
    "\n",
    "\n",
    "for alt in range(number_criteria):\n",
    "    with open(f'./resources/alternative_{alt + 1}.csv', 'r', encoding='utf-8-sig') as csvfile:\n",
    "        csvreader = csv.reader(csvfile, delimiter=';')\n",
    "        names_alternatives = next(csvreader)\n",
    "        for row in csvreader:\n",
    "            parsed_row = [parse_value(item) for item in row]\n",
    "            all_alternatives[alt].append(parsed_row)\n",
    "            "
   ],
   "id": "2017b768581202fc",
   "outputs": [],
   "execution_count": 2
  },
  {
   "metadata": {},
   "cell_type": "markdown",
   "source": "# Расчёты",
   "id": "fee3cd88c8e5f6cd"
  },
  {
   "metadata": {},
   "cell_type": "markdown",
   "source": "## Критерии",
   "id": "e7cc245077ad0ce7"
  },
  {
   "metadata": {
    "ExecuteTime": {
     "end_time": "2025-06-10T21:06:09.343380Z",
     "start_time": "2025-06-10T21:06:09.282267Z"
    }
   },
   "cell_type": "code",
   "source": [
    "matrix_paired_comparisons_criteria = get_matrix_paired_comparisons(criteria, names_criteria)\n",
    "priority_vectors_criteria = get_priority_vectors(criteria, names_criteria)\n",
    "\n",
    "display(Markdown(f\"#### Матрица парных сравнений для второго уровня доминантной иерархии с векторами приоритетов\"))\n",
    "result_matrix_criteria = pd.concat([matrix_paired_comparisons_criteria, priority_vectors_criteria], axis=1)\n",
    "display(result_matrix_criteria)\n",
    "\n",
    "lambda_max_alternative = get_lambda_max(matrix_paired_comparisons_criteria, priority_vectors_criteria).iloc[0]\n",
    "consistency_index_criteria = get_consistency_index(lambda_max_alternative, len(criteria))\n",
    "consistency_relation_criteria =  get_consistency_relation(consistency_index_criteria, len(criteria))\n",
    "\n",
    "display(Markdown(rf\"#### Максимальное собственное значение: $\\lambda_{{max}} = {lambda_max_alternative:.4f}$\"))\n",
    "display(Markdown(f\"#### Индекс согласованности: ИС = {consistency_index_criteria:.4f}\"))\n",
    "display(Markdown(f\"#### Отношение согласованности: ОС = {consistency_relation_criteria:.4f}\"))\n",
    "save_matrix_paired_comparisons_to_xlsx(result_matrix_criteria, lambda_max_alternative, consistency_index_criteria, consistency_relation_criteria, \"Матрица_Критериев\")\n",
    "display(HTML(\"<hr>\"))"
   ],
   "id": "f35b22089b3ced70",
   "outputs": [
    {
     "data": {
      "text/plain": [
       "<IPython.core.display.Markdown object>"
      ],
      "text/markdown": "#### Матрица парных сравнений для второго уровня доминантной иерархии с векторами приоритетов"
     },
     "metadata": {},
     "output_type": "display_data"
    },
    {
     "data": {
      "text/plain": [
       "                          Стоимость ТС Стоимость обслуживания ТС Надёжность  \\\n",
       "Стоимость ТС                         1                         3          2   \n",
       "Стоимость обслуживания ТС          1/3                         1        1/2   \n",
       "Надёжность                         1/2                         2          1   \n",
       "Безопасность                       1/4                       1/2        1/3   \n",
       "Дизайн                             1/6                       1/4        1/5   \n",
       "Комфорт                            1/5                       1/3        1/4   \n",
       "Мощность                           1/7                       1/5        1/6   \n",
       "Год выпуска                        1/8                       1/6        1/7   \n",
       "\n",
       "                          Безопасность Дизайн Комфорт Мощность  Год выпуска  \\\n",
       "Стоимость ТС                         4      6       5        7            8   \n",
       "Стоимость обслуживания ТС            2      4       3        5            6   \n",
       "Надёжность                           3      5       4        6            7   \n",
       "Безопасность                         1      3       2        4            5   \n",
       "Дизайн                             1/3      1     1/2        2            3   \n",
       "Комфорт                            1/2      2       1        3            4   \n",
       "Мощность                           1/4    1/2     1/3        1            2   \n",
       "Год выпуска                        1/5    1/3     1/4      1/2            1   \n",
       "\n",
       "                           Вектор приоритетов  \n",
       "Стоимость ТС                            0.328  \n",
       "Стоимость обслуживания ТС               0.159  \n",
       "Надёжность                              0.232  \n",
       "Безопасность                            0.107  \n",
       "Дизайн                                  0.048  \n",
       "Комфорт                                 0.071  \n",
       "Мощность                                0.033  \n",
       "Год выпуска                             0.023  "
      ],
      "text/html": [
       "<div>\n",
       "<style scoped>\n",
       "    .dataframe tbody tr th:only-of-type {\n",
       "        vertical-align: middle;\n",
       "    }\n",
       "\n",
       "    .dataframe tbody tr th {\n",
       "        vertical-align: top;\n",
       "    }\n",
       "\n",
       "    .dataframe thead th {\n",
       "        text-align: right;\n",
       "    }\n",
       "</style>\n",
       "<table border=\"1\" class=\"dataframe\">\n",
       "  <thead>\n",
       "    <tr style=\"text-align: right;\">\n",
       "      <th></th>\n",
       "      <th>Стоимость ТС</th>\n",
       "      <th>Стоимость обслуживания ТС</th>\n",
       "      <th>Надёжность</th>\n",
       "      <th>Безопасность</th>\n",
       "      <th>Дизайн</th>\n",
       "      <th>Комфорт</th>\n",
       "      <th>Мощность</th>\n",
       "      <th>Год выпуска</th>\n",
       "      <th>Вектор приоритетов</th>\n",
       "    </tr>\n",
       "  </thead>\n",
       "  <tbody>\n",
       "    <tr>\n",
       "      <th>Стоимость ТС</th>\n",
       "      <td>1</td>\n",
       "      <td>3</td>\n",
       "      <td>2</td>\n",
       "      <td>4</td>\n",
       "      <td>6</td>\n",
       "      <td>5</td>\n",
       "      <td>7</td>\n",
       "      <td>8</td>\n",
       "      <td>0.328</td>\n",
       "    </tr>\n",
       "    <tr>\n",
       "      <th>Стоимость обслуживания ТС</th>\n",
       "      <td>1/3</td>\n",
       "      <td>1</td>\n",
       "      <td>1/2</td>\n",
       "      <td>2</td>\n",
       "      <td>4</td>\n",
       "      <td>3</td>\n",
       "      <td>5</td>\n",
       "      <td>6</td>\n",
       "      <td>0.159</td>\n",
       "    </tr>\n",
       "    <tr>\n",
       "      <th>Надёжность</th>\n",
       "      <td>1/2</td>\n",
       "      <td>2</td>\n",
       "      <td>1</td>\n",
       "      <td>3</td>\n",
       "      <td>5</td>\n",
       "      <td>4</td>\n",
       "      <td>6</td>\n",
       "      <td>7</td>\n",
       "      <td>0.232</td>\n",
       "    </tr>\n",
       "    <tr>\n",
       "      <th>Безопасность</th>\n",
       "      <td>1/4</td>\n",
       "      <td>1/2</td>\n",
       "      <td>1/3</td>\n",
       "      <td>1</td>\n",
       "      <td>3</td>\n",
       "      <td>2</td>\n",
       "      <td>4</td>\n",
       "      <td>5</td>\n",
       "      <td>0.107</td>\n",
       "    </tr>\n",
       "    <tr>\n",
       "      <th>Дизайн</th>\n",
       "      <td>1/6</td>\n",
       "      <td>1/4</td>\n",
       "      <td>1/5</td>\n",
       "      <td>1/3</td>\n",
       "      <td>1</td>\n",
       "      <td>1/2</td>\n",
       "      <td>2</td>\n",
       "      <td>3</td>\n",
       "      <td>0.048</td>\n",
       "    </tr>\n",
       "    <tr>\n",
       "      <th>Комфорт</th>\n",
       "      <td>1/5</td>\n",
       "      <td>1/3</td>\n",
       "      <td>1/4</td>\n",
       "      <td>1/2</td>\n",
       "      <td>2</td>\n",
       "      <td>1</td>\n",
       "      <td>3</td>\n",
       "      <td>4</td>\n",
       "      <td>0.071</td>\n",
       "    </tr>\n",
       "    <tr>\n",
       "      <th>Мощность</th>\n",
       "      <td>1/7</td>\n",
       "      <td>1/5</td>\n",
       "      <td>1/6</td>\n",
       "      <td>1/4</td>\n",
       "      <td>1/2</td>\n",
       "      <td>1/3</td>\n",
       "      <td>1</td>\n",
       "      <td>2</td>\n",
       "      <td>0.033</td>\n",
       "    </tr>\n",
       "    <tr>\n",
       "      <th>Год выпуска</th>\n",
       "      <td>1/8</td>\n",
       "      <td>1/6</td>\n",
       "      <td>1/7</td>\n",
       "      <td>1/5</td>\n",
       "      <td>1/3</td>\n",
       "      <td>1/4</td>\n",
       "      <td>1/2</td>\n",
       "      <td>1</td>\n",
       "      <td>0.023</td>\n",
       "    </tr>\n",
       "  </tbody>\n",
       "</table>\n",
       "</div>"
      ]
     },
     "metadata": {},
     "output_type": "display_data"
    },
    {
     "data": {
      "text/plain": [
       "<IPython.core.display.Markdown object>"
      ],
      "text/markdown": "#### Максимальное собственное значение: $\\lambda_{max} = 8.2877$"
     },
     "metadata": {},
     "output_type": "display_data"
    },
    {
     "data": {
      "text/plain": [
       "<IPython.core.display.Markdown object>"
      ],
      "text/markdown": "#### Индекс согласованности: ИС = 0.0411"
     },
     "metadata": {},
     "output_type": "display_data"
    },
    {
     "data": {
      "text/plain": [
       "<IPython.core.display.Markdown object>"
      ],
      "text/markdown": "#### Отношение согласованности: ОС = 0.0291"
     },
     "metadata": {},
     "output_type": "display_data"
    },
    {
     "data": {
      "text/plain": [
       "<IPython.core.display.Markdown object>"
      ],
      "text/markdown": "Файл успешно сохранён: out\\Матрица_Критериев.xlsx"
     },
     "metadata": {},
     "output_type": "display_data"
    },
    {
     "data": {
      "text/plain": [
       "<IPython.core.display.HTML object>"
      ],
      "text/html": [
       "<hr>"
      ]
     },
     "metadata": {},
     "output_type": "display_data"
    }
   ],
   "execution_count": 3
  },
  {
   "metadata": {},
   "cell_type": "markdown",
   "source": "## Альтернативы",
   "id": "fca1a3455727858"
  },
  {
   "metadata": {
    "ExecuteTime": {
     "end_time": "2025-06-10T21:06:09.733835Z",
     "start_time": "2025-06-10T21:06:09.344388Z"
    }
   },
   "cell_type": "code",
   "source": [
    "priority_vectors_alternatives = []\n",
    "\n",
    "for i in range(number_criteria):\n",
    "\n",
    "    alternative = all_alternatives[i]\n",
    "    display(Markdown(f\"### Критерий: {names_criteria[i]}\"))\n",
    "\n",
    "    matrix_paired_comparisons_alternative = get_matrix_paired_comparisons(alternative, names_alternatives)\n",
    "    priority_vectors_alternative = get_priority_vectors(alternative, names_alternatives)\n",
    "    priority_vectors_alternatives.append(priority_vectors_alternative['Вектор приоритетов'].to_numpy())\n",
    "\n",
    "    display(Markdown(f\"#### Матрица парных сравнений для третьего уровня доминантной иерархии для {names_criteria[i]} с векторами приоритетов\"))\n",
    "    result_matrix_alternative = pd.concat([matrix_paired_comparisons_alternative, priority_vectors_alternative], axis=1)\n",
    "    display(result_matrix_alternative)\n",
    "\n",
    "    lambda_max_alternative = get_lambda_max(matrix_paired_comparisons_alternative, priority_vectors_alternative).iloc[0]\n",
    "    consistency_index_alternative = get_consistency_index(lambda_max_alternative, len(alternative))\n",
    "    consistency_relation_alternative =  get_consistency_relation(consistency_index_alternative, len(alternative))\n",
    "\n",
    "    display(Markdown(rf\"#### Максимальное собственное значение: $\\lambda_{{max}} = {lambda_max_alternative:.4f}$\"))\n",
    "    display(Markdown(f\"#### Индекс согласованности: ИС = {consistency_index_alternative:.4f}\"))\n",
    "    display(Markdown(f\"#### Отношение согласованности: ОС = {consistency_relation_alternative:.4f}\"))\n",
    "    save_matrix_paired_comparisons_to_xlsx(result_matrix_alternative, lambda_max_alternative, consistency_index_alternative, consistency_relation_alternative, f\"Матрица_Альтернатив_{names_criteria[i]}\", names_criteria[i])\n",
    "    display(HTML(\"<hr>\"))"
   ],
   "id": "51da10f4f3952735",
   "outputs": [
    {
     "data": {
      "text/plain": [
       "<IPython.core.display.Markdown object>"
      ],
      "text/markdown": "### Критерий: Стоимость ТС"
     },
     "metadata": {},
     "output_type": "display_data"
    },
    {
     "data": {
      "text/plain": [
       "<IPython.core.display.Markdown object>"
      ],
      "text/markdown": "#### Матрица парных сравнений для третьего уровня доминантной иерархии для Стоимость ТС с векторами приоритетов"
     },
     "metadata": {},
     "output_type": "display_data"
    },
    {
     "data": {
      "text/plain": [
       "                Kia Rio Volkswagen Golf Toyota Corolla Skoda Octavia  \\\n",
       "Kia Rio               1               3              2             2   \n",
       "Volkswagen Golf     1/3               1            1/2           1/2   \n",
       "Toyota Corolla      1/2               2              1             1   \n",
       "Skoda Octavia       1/2               2              1             1   \n",
       "BMW 3 Series        1/5             1/3            1/4           1/4   \n",
       "Hyundai Solaris       1               3              2             2   \n",
       "\n",
       "                 BMW 3 Series Hyundai Solaris  Вектор приоритетов  \n",
       "Kia Rio                     5               1               0.276  \n",
       "Volkswagen Golf             3             1/3               0.092  \n",
       "Toyota Corolla              4             1/2               0.157  \n",
       "Skoda Octavia               4             1/2               0.157  \n",
       "BMW 3 Series                1             1/5               0.043  \n",
       "Hyundai Solaris             5               1               0.276  "
      ],
      "text/html": [
       "<div>\n",
       "<style scoped>\n",
       "    .dataframe tbody tr th:only-of-type {\n",
       "        vertical-align: middle;\n",
       "    }\n",
       "\n",
       "    .dataframe tbody tr th {\n",
       "        vertical-align: top;\n",
       "    }\n",
       "\n",
       "    .dataframe thead th {\n",
       "        text-align: right;\n",
       "    }\n",
       "</style>\n",
       "<table border=\"1\" class=\"dataframe\">\n",
       "  <thead>\n",
       "    <tr style=\"text-align: right;\">\n",
       "      <th></th>\n",
       "      <th>Kia Rio</th>\n",
       "      <th>Volkswagen Golf</th>\n",
       "      <th>Toyota Corolla</th>\n",
       "      <th>Skoda Octavia</th>\n",
       "      <th>BMW 3 Series</th>\n",
       "      <th>Hyundai Solaris</th>\n",
       "      <th>Вектор приоритетов</th>\n",
       "    </tr>\n",
       "  </thead>\n",
       "  <tbody>\n",
       "    <tr>\n",
       "      <th>Kia Rio</th>\n",
       "      <td>1</td>\n",
       "      <td>3</td>\n",
       "      <td>2</td>\n",
       "      <td>2</td>\n",
       "      <td>5</td>\n",
       "      <td>1</td>\n",
       "      <td>0.276</td>\n",
       "    </tr>\n",
       "    <tr>\n",
       "      <th>Volkswagen Golf</th>\n",
       "      <td>1/3</td>\n",
       "      <td>1</td>\n",
       "      <td>1/2</td>\n",
       "      <td>1/2</td>\n",
       "      <td>3</td>\n",
       "      <td>1/3</td>\n",
       "      <td>0.092</td>\n",
       "    </tr>\n",
       "    <tr>\n",
       "      <th>Toyota Corolla</th>\n",
       "      <td>1/2</td>\n",
       "      <td>2</td>\n",
       "      <td>1</td>\n",
       "      <td>1</td>\n",
       "      <td>4</td>\n",
       "      <td>1/2</td>\n",
       "      <td>0.157</td>\n",
       "    </tr>\n",
       "    <tr>\n",
       "      <th>Skoda Octavia</th>\n",
       "      <td>1/2</td>\n",
       "      <td>2</td>\n",
       "      <td>1</td>\n",
       "      <td>1</td>\n",
       "      <td>4</td>\n",
       "      <td>1/2</td>\n",
       "      <td>0.157</td>\n",
       "    </tr>\n",
       "    <tr>\n",
       "      <th>BMW 3 Series</th>\n",
       "      <td>1/5</td>\n",
       "      <td>1/3</td>\n",
       "      <td>1/4</td>\n",
       "      <td>1/4</td>\n",
       "      <td>1</td>\n",
       "      <td>1/5</td>\n",
       "      <td>0.043</td>\n",
       "    </tr>\n",
       "    <tr>\n",
       "      <th>Hyundai Solaris</th>\n",
       "      <td>1</td>\n",
       "      <td>3</td>\n",
       "      <td>2</td>\n",
       "      <td>2</td>\n",
       "      <td>5</td>\n",
       "      <td>1</td>\n",
       "      <td>0.276</td>\n",
       "    </tr>\n",
       "  </tbody>\n",
       "</table>\n",
       "</div>"
      ]
     },
     "metadata": {},
     "output_type": "display_data"
    },
    {
     "data": {
      "text/plain": [
       "<IPython.core.display.Markdown object>"
      ],
      "text/markdown": "#### Максимальное собственное значение: $\\lambda_{max} = 6.0624$"
     },
     "metadata": {},
     "output_type": "display_data"
    },
    {
     "data": {
      "text/plain": [
       "<IPython.core.display.Markdown object>"
      ],
      "text/markdown": "#### Индекс согласованности: ИС = 0.0125"
     },
     "metadata": {},
     "output_type": "display_data"
    },
    {
     "data": {
      "text/plain": [
       "<IPython.core.display.Markdown object>"
      ],
      "text/markdown": "#### Отношение согласованности: ОС = 0.0101"
     },
     "metadata": {},
     "output_type": "display_data"
    },
    {
     "data": {
      "text/plain": [
       "<IPython.core.display.Markdown object>"
      ],
      "text/markdown": "Файл успешно сохранён: out\\Матрица_Альтернатив_Стоимость ТС.xlsx"
     },
     "metadata": {},
     "output_type": "display_data"
    },
    {
     "data": {
      "text/plain": [
       "<IPython.core.display.HTML object>"
      ],
      "text/html": [
       "<hr>"
      ]
     },
     "metadata": {},
     "output_type": "display_data"
    },
    {
     "data": {
      "text/plain": [
       "<IPython.core.display.Markdown object>"
      ],
      "text/markdown": "### Критерий: Стоимость обслуживания ТС"
     },
     "metadata": {},
     "output_type": "display_data"
    },
    {
     "data": {
      "text/plain": [
       "<IPython.core.display.Markdown object>"
      ],
      "text/markdown": "#### Матрица парных сравнений для третьего уровня доминантной иерархии для Стоимость обслуживания ТС с векторами приоритетов"
     },
     "metadata": {},
     "output_type": "display_data"
    },
    {
     "data": {
      "text/plain": [
       "                Kia Rio Volkswagen Golf Toyota Corolla Skoda Octavia  \\\n",
       "Kia Rio               1               2            1/2             1   \n",
       "Volkswagen Golf     1/2               1            1/3           1/2   \n",
       "Toyota Corolla        2               3              1             2   \n",
       "Skoda Octavia         1               2            1/2             1   \n",
       "BMW 3 Series        1/4             1/3            1/5           1/4   \n",
       "Hyundai Solaris       1               2            1/2             1   \n",
       "\n",
       "                 BMW 3 Series Hyundai Solaris  Вектор приоритетов  \n",
       "Kia Rio                     4               1               0.179  \n",
       "Volkswagen Golf             3             1/2               0.101  \n",
       "Toyota Corolla              5               2               0.316  \n",
       "Skoda Octavia               4               1               0.179  \n",
       "BMW 3 Series                1             1/4               0.045  \n",
       "Hyundai Solaris             4               1               0.179  "
      ],
      "text/html": [
       "<div>\n",
       "<style scoped>\n",
       "    .dataframe tbody tr th:only-of-type {\n",
       "        vertical-align: middle;\n",
       "    }\n",
       "\n",
       "    .dataframe tbody tr th {\n",
       "        vertical-align: top;\n",
       "    }\n",
       "\n",
       "    .dataframe thead th {\n",
       "        text-align: right;\n",
       "    }\n",
       "</style>\n",
       "<table border=\"1\" class=\"dataframe\">\n",
       "  <thead>\n",
       "    <tr style=\"text-align: right;\">\n",
       "      <th></th>\n",
       "      <th>Kia Rio</th>\n",
       "      <th>Volkswagen Golf</th>\n",
       "      <th>Toyota Corolla</th>\n",
       "      <th>Skoda Octavia</th>\n",
       "      <th>BMW 3 Series</th>\n",
       "      <th>Hyundai Solaris</th>\n",
       "      <th>Вектор приоритетов</th>\n",
       "    </tr>\n",
       "  </thead>\n",
       "  <tbody>\n",
       "    <tr>\n",
       "      <th>Kia Rio</th>\n",
       "      <td>1</td>\n",
       "      <td>2</td>\n",
       "      <td>1/2</td>\n",
       "      <td>1</td>\n",
       "      <td>4</td>\n",
       "      <td>1</td>\n",
       "      <td>0.179</td>\n",
       "    </tr>\n",
       "    <tr>\n",
       "      <th>Volkswagen Golf</th>\n",
       "      <td>1/2</td>\n",
       "      <td>1</td>\n",
       "      <td>1/3</td>\n",
       "      <td>1/2</td>\n",
       "      <td>3</td>\n",
       "      <td>1/2</td>\n",
       "      <td>0.101</td>\n",
       "    </tr>\n",
       "    <tr>\n",
       "      <th>Toyota Corolla</th>\n",
       "      <td>2</td>\n",
       "      <td>3</td>\n",
       "      <td>1</td>\n",
       "      <td>2</td>\n",
       "      <td>5</td>\n",
       "      <td>2</td>\n",
       "      <td>0.316</td>\n",
       "    </tr>\n",
       "    <tr>\n",
       "      <th>Skoda Octavia</th>\n",
       "      <td>1</td>\n",
       "      <td>2</td>\n",
       "      <td>1/2</td>\n",
       "      <td>1</td>\n",
       "      <td>4</td>\n",
       "      <td>1</td>\n",
       "      <td>0.179</td>\n",
       "    </tr>\n",
       "    <tr>\n",
       "      <th>BMW 3 Series</th>\n",
       "      <td>1/4</td>\n",
       "      <td>1/3</td>\n",
       "      <td>1/5</td>\n",
       "      <td>1/4</td>\n",
       "      <td>1</td>\n",
       "      <td>1/4</td>\n",
       "      <td>0.045</td>\n",
       "    </tr>\n",
       "    <tr>\n",
       "      <th>Hyundai Solaris</th>\n",
       "      <td>1</td>\n",
       "      <td>2</td>\n",
       "      <td>1/2</td>\n",
       "      <td>1</td>\n",
       "      <td>4</td>\n",
       "      <td>1</td>\n",
       "      <td>0.179</td>\n",
       "    </tr>\n",
       "  </tbody>\n",
       "</table>\n",
       "</div>"
      ]
     },
     "metadata": {},
     "output_type": "display_data"
    },
    {
     "data": {
      "text/plain": [
       "<IPython.core.display.Markdown object>"
      ],
      "text/markdown": "#### Максимальное собственное значение: $\\lambda_{max} = 6.0489$"
     },
     "metadata": {},
     "output_type": "display_data"
    },
    {
     "data": {
      "text/plain": [
       "<IPython.core.display.Markdown object>"
      ],
      "text/markdown": "#### Индекс согласованности: ИС = 0.0098"
     },
     "metadata": {},
     "output_type": "display_data"
    },
    {
     "data": {
      "text/plain": [
       "<IPython.core.display.Markdown object>"
      ],
      "text/markdown": "#### Отношение согласованности: ОС = 0.0079"
     },
     "metadata": {},
     "output_type": "display_data"
    },
    {
     "data": {
      "text/plain": [
       "<IPython.core.display.Markdown object>"
      ],
      "text/markdown": "Файл успешно сохранён: out\\Матрица_Альтернатив_Стоимость обслуживания ТС.xlsx"
     },
     "metadata": {},
     "output_type": "display_data"
    },
    {
     "data": {
      "text/plain": [
       "<IPython.core.display.HTML object>"
      ],
      "text/html": [
       "<hr>"
      ]
     },
     "metadata": {},
     "output_type": "display_data"
    },
    {
     "data": {
      "text/plain": [
       "<IPython.core.display.Markdown object>"
      ],
      "text/markdown": "### Критерий: Надёжность"
     },
     "metadata": {},
     "output_type": "display_data"
    },
    {
     "data": {
      "text/plain": [
       "<IPython.core.display.Markdown object>"
      ],
      "text/markdown": "#### Матрица парных сравнений для третьего уровня доминантной иерархии для Надёжность с векторами приоритетов"
     },
     "metadata": {},
     "output_type": "display_data"
    },
    {
     "data": {
      "text/plain": [
       "                Kia Rio  Volkswagen Golf Toyota Corolla Skoda Octavia  \\\n",
       "Kia Rio               1                2            1/3           1/2   \n",
       "Volkswagen Golf     1/2                1            1/4           1/3   \n",
       "Toyota Corolla        3                4              1             2   \n",
       "Skoda Octavia         2                3            1/2             1   \n",
       "BMW 3 Series          4                5              2             3   \n",
       "Hyundai Solaris     1/2                1            1/4           1/3   \n",
       "\n",
       "                BMW 3 Series  Hyundai Solaris  Вектор приоритетов  \n",
       "Kia Rio                  1/4                2               0.097  \n",
       "Volkswagen Golf          1/5                1               0.059  \n",
       "Toyota Corolla           1/2                4               0.249  \n",
       "Skoda Octavia            1/3                3               0.157  \n",
       "BMW 3 Series               1                5               0.379  \n",
       "Hyundai Solaris          1/5                1               0.059  "
      ],
      "text/html": [
       "<div>\n",
       "<style scoped>\n",
       "    .dataframe tbody tr th:only-of-type {\n",
       "        vertical-align: middle;\n",
       "    }\n",
       "\n",
       "    .dataframe tbody tr th {\n",
       "        vertical-align: top;\n",
       "    }\n",
       "\n",
       "    .dataframe thead th {\n",
       "        text-align: right;\n",
       "    }\n",
       "</style>\n",
       "<table border=\"1\" class=\"dataframe\">\n",
       "  <thead>\n",
       "    <tr style=\"text-align: right;\">\n",
       "      <th></th>\n",
       "      <th>Kia Rio</th>\n",
       "      <th>Volkswagen Golf</th>\n",
       "      <th>Toyota Corolla</th>\n",
       "      <th>Skoda Octavia</th>\n",
       "      <th>BMW 3 Series</th>\n",
       "      <th>Hyundai Solaris</th>\n",
       "      <th>Вектор приоритетов</th>\n",
       "    </tr>\n",
       "  </thead>\n",
       "  <tbody>\n",
       "    <tr>\n",
       "      <th>Kia Rio</th>\n",
       "      <td>1</td>\n",
       "      <td>2</td>\n",
       "      <td>1/3</td>\n",
       "      <td>1/2</td>\n",
       "      <td>1/4</td>\n",
       "      <td>2</td>\n",
       "      <td>0.097</td>\n",
       "    </tr>\n",
       "    <tr>\n",
       "      <th>Volkswagen Golf</th>\n",
       "      <td>1/2</td>\n",
       "      <td>1</td>\n",
       "      <td>1/4</td>\n",
       "      <td>1/3</td>\n",
       "      <td>1/5</td>\n",
       "      <td>1</td>\n",
       "      <td>0.059</td>\n",
       "    </tr>\n",
       "    <tr>\n",
       "      <th>Toyota Corolla</th>\n",
       "      <td>3</td>\n",
       "      <td>4</td>\n",
       "      <td>1</td>\n",
       "      <td>2</td>\n",
       "      <td>1/2</td>\n",
       "      <td>4</td>\n",
       "      <td>0.249</td>\n",
       "    </tr>\n",
       "    <tr>\n",
       "      <th>Skoda Octavia</th>\n",
       "      <td>2</td>\n",
       "      <td>3</td>\n",
       "      <td>1/2</td>\n",
       "      <td>1</td>\n",
       "      <td>1/3</td>\n",
       "      <td>3</td>\n",
       "      <td>0.157</td>\n",
       "    </tr>\n",
       "    <tr>\n",
       "      <th>BMW 3 Series</th>\n",
       "      <td>4</td>\n",
       "      <td>5</td>\n",
       "      <td>2</td>\n",
       "      <td>3</td>\n",
       "      <td>1</td>\n",
       "      <td>5</td>\n",
       "      <td>0.379</td>\n",
       "    </tr>\n",
       "    <tr>\n",
       "      <th>Hyundai Solaris</th>\n",
       "      <td>1/2</td>\n",
       "      <td>1</td>\n",
       "      <td>1/4</td>\n",
       "      <td>1/3</td>\n",
       "      <td>1/5</td>\n",
       "      <td>1</td>\n",
       "      <td>0.059</td>\n",
       "    </tr>\n",
       "  </tbody>\n",
       "</table>\n",
       "</div>"
      ]
     },
     "metadata": {},
     "output_type": "display_data"
    },
    {
     "data": {
      "text/plain": [
       "<IPython.core.display.Markdown object>"
      ],
      "text/markdown": "#### Максимальное собственное значение: $\\lambda_{max} = 6.0807$"
     },
     "metadata": {},
     "output_type": "display_data"
    },
    {
     "data": {
      "text/plain": [
       "<IPython.core.display.Markdown object>"
      ],
      "text/markdown": "#### Индекс согласованности: ИС = 0.0161"
     },
     "metadata": {},
     "output_type": "display_data"
    },
    {
     "data": {
      "text/plain": [
       "<IPython.core.display.Markdown object>"
      ],
      "text/markdown": "#### Отношение согласованности: ОС = 0.0130"
     },
     "metadata": {},
     "output_type": "display_data"
    },
    {
     "data": {
      "text/plain": [
       "<IPython.core.display.Markdown object>"
      ],
      "text/markdown": "Файл успешно сохранён: out\\Матрица_Альтернатив_Надёжность.xlsx"
     },
     "metadata": {},
     "output_type": "display_data"
    },
    {
     "data": {
      "text/plain": [
       "<IPython.core.display.HTML object>"
      ],
      "text/html": [
       "<hr>"
      ]
     },
     "metadata": {},
     "output_type": "display_data"
    },
    {
     "data": {
      "text/plain": [
       "<IPython.core.display.Markdown object>"
      ],
      "text/markdown": "### Критерий: Безопасность"
     },
     "metadata": {},
     "output_type": "display_data"
    },
    {
     "data": {
      "text/plain": [
       "<IPython.core.display.Markdown object>"
      ],
      "text/markdown": "#### Матрица парных сравнений для третьего уровня доминантной иерархии для Безопасность с векторами приоритетов"
     },
     "metadata": {},
     "output_type": "display_data"
    },
    {
     "data": {
      "text/plain": [
       "                 Kia Rio Volkswagen Golf Toyota Corolla Skoda Octavia  \\\n",
       "Kia Rio                1             1/2            1/3           1/2   \n",
       "Volkswagen Golf        2               1            1/2             1   \n",
       "Toyota Corolla         3               2              1             2   \n",
       "Skoda Octavia          2               1            1/2             1   \n",
       "BMW 3 Series           4               3              2             3   \n",
       "Hyundai Solaris        1             1/2            1/3           1/2   \n",
       "\n",
       "                BMW 3 Series  Hyundai Solaris  Вектор приоритетов  \n",
       "Kia Rio                  1/4                1               0.074  \n",
       "Volkswagen Golf          1/3                2               0.132  \n",
       "Toyota Corolla           1/2                3               0.228  \n",
       "Skoda Octavia            1/3                2               0.132  \n",
       "BMW 3 Series               1                4               0.362  \n",
       "Hyundai Solaris          1/4                1               0.074  "
      ],
      "text/html": [
       "<div>\n",
       "<style scoped>\n",
       "    .dataframe tbody tr th:only-of-type {\n",
       "        vertical-align: middle;\n",
       "    }\n",
       "\n",
       "    .dataframe tbody tr th {\n",
       "        vertical-align: top;\n",
       "    }\n",
       "\n",
       "    .dataframe thead th {\n",
       "        text-align: right;\n",
       "    }\n",
       "</style>\n",
       "<table border=\"1\" class=\"dataframe\">\n",
       "  <thead>\n",
       "    <tr style=\"text-align: right;\">\n",
       "      <th></th>\n",
       "      <th>Kia Rio</th>\n",
       "      <th>Volkswagen Golf</th>\n",
       "      <th>Toyota Corolla</th>\n",
       "      <th>Skoda Octavia</th>\n",
       "      <th>BMW 3 Series</th>\n",
       "      <th>Hyundai Solaris</th>\n",
       "      <th>Вектор приоритетов</th>\n",
       "    </tr>\n",
       "  </thead>\n",
       "  <tbody>\n",
       "    <tr>\n",
       "      <th>Kia Rio</th>\n",
       "      <td>1</td>\n",
       "      <td>1/2</td>\n",
       "      <td>1/3</td>\n",
       "      <td>1/2</td>\n",
       "      <td>1/4</td>\n",
       "      <td>1</td>\n",
       "      <td>0.074</td>\n",
       "    </tr>\n",
       "    <tr>\n",
       "      <th>Volkswagen Golf</th>\n",
       "      <td>2</td>\n",
       "      <td>1</td>\n",
       "      <td>1/2</td>\n",
       "      <td>1</td>\n",
       "      <td>1/3</td>\n",
       "      <td>2</td>\n",
       "      <td>0.132</td>\n",
       "    </tr>\n",
       "    <tr>\n",
       "      <th>Toyota Corolla</th>\n",
       "      <td>3</td>\n",
       "      <td>2</td>\n",
       "      <td>1</td>\n",
       "      <td>2</td>\n",
       "      <td>1/2</td>\n",
       "      <td>3</td>\n",
       "      <td>0.228</td>\n",
       "    </tr>\n",
       "    <tr>\n",
       "      <th>Skoda Octavia</th>\n",
       "      <td>2</td>\n",
       "      <td>1</td>\n",
       "      <td>1/2</td>\n",
       "      <td>1</td>\n",
       "      <td>1/3</td>\n",
       "      <td>2</td>\n",
       "      <td>0.132</td>\n",
       "    </tr>\n",
       "    <tr>\n",
       "      <th>BMW 3 Series</th>\n",
       "      <td>4</td>\n",
       "      <td>3</td>\n",
       "      <td>2</td>\n",
       "      <td>3</td>\n",
       "      <td>1</td>\n",
       "      <td>4</td>\n",
       "      <td>0.362</td>\n",
       "    </tr>\n",
       "    <tr>\n",
       "      <th>Hyundai Solaris</th>\n",
       "      <td>1</td>\n",
       "      <td>1/2</td>\n",
       "      <td>1/3</td>\n",
       "      <td>1/2</td>\n",
       "      <td>1/4</td>\n",
       "      <td>1</td>\n",
       "      <td>0.074</td>\n",
       "    </tr>\n",
       "  </tbody>\n",
       "</table>\n",
       "</div>"
      ]
     },
     "metadata": {},
     "output_type": "display_data"
    },
    {
     "data": {
      "text/plain": [
       "<IPython.core.display.Markdown object>"
      ],
      "text/markdown": "#### Максимальное собственное значение: $\\lambda_{max} = 6.0413$"
     },
     "metadata": {},
     "output_type": "display_data"
    },
    {
     "data": {
      "text/plain": [
       "<IPython.core.display.Markdown object>"
      ],
      "text/markdown": "#### Индекс согласованности: ИС = 0.0083"
     },
     "metadata": {},
     "output_type": "display_data"
    },
    {
     "data": {
      "text/plain": [
       "<IPython.core.display.Markdown object>"
      ],
      "text/markdown": "#### Отношение согласованности: ОС = 0.0067"
     },
     "metadata": {},
     "output_type": "display_data"
    },
    {
     "data": {
      "text/plain": [
       "<IPython.core.display.Markdown object>"
      ],
      "text/markdown": "Файл успешно сохранён: out\\Матрица_Альтернатив_Безопасность.xlsx"
     },
     "metadata": {},
     "output_type": "display_data"
    },
    {
     "data": {
      "text/plain": [
       "<IPython.core.display.HTML object>"
      ],
      "text/html": [
       "<hr>"
      ]
     },
     "metadata": {},
     "output_type": "display_data"
    },
    {
     "data": {
      "text/plain": [
       "<IPython.core.display.Markdown object>"
      ],
      "text/markdown": "### Критерий: Дизайн"
     },
     "metadata": {},
     "output_type": "display_data"
    },
    {
     "data": {
      "text/plain": [
       "<IPython.core.display.Markdown object>"
      ],
      "text/markdown": "#### Матрица парных сравнений для третьего уровня доминантной иерархии для Дизайн с векторами приоритетов"
     },
     "metadata": {},
     "output_type": "display_data"
    },
    {
     "data": {
      "text/plain": [
       "                 Kia Rio Volkswagen Golf Toyota Corolla Skoda Octavia  \\\n",
       "Kia Rio                1             1/3            1/2           1/2   \n",
       "Volkswagen Golf        3               1              2             2   \n",
       "Toyota Corolla         2             1/2              1             1   \n",
       "Skoda Octavia          2             1/2              1             1   \n",
       "BMW 3 Series           4               2              3             3   \n",
       "Hyundai Solaris        1             1/3            1/2           1/2   \n",
       "\n",
       "                BMW 3 Series  Hyundai Solaris  Вектор приоритетов  \n",
       "Kia Rio                  1/4                1               0.074  \n",
       "Volkswagen Golf          1/2                3               0.228  \n",
       "Toyota Corolla           1/3                2               0.132  \n",
       "Skoda Octavia            1/3                2               0.132  \n",
       "BMW 3 Series               1                4               0.362  \n",
       "Hyundai Solaris          1/4                1               0.074  "
      ],
      "text/html": [
       "<div>\n",
       "<style scoped>\n",
       "    .dataframe tbody tr th:only-of-type {\n",
       "        vertical-align: middle;\n",
       "    }\n",
       "\n",
       "    .dataframe tbody tr th {\n",
       "        vertical-align: top;\n",
       "    }\n",
       "\n",
       "    .dataframe thead th {\n",
       "        text-align: right;\n",
       "    }\n",
       "</style>\n",
       "<table border=\"1\" class=\"dataframe\">\n",
       "  <thead>\n",
       "    <tr style=\"text-align: right;\">\n",
       "      <th></th>\n",
       "      <th>Kia Rio</th>\n",
       "      <th>Volkswagen Golf</th>\n",
       "      <th>Toyota Corolla</th>\n",
       "      <th>Skoda Octavia</th>\n",
       "      <th>BMW 3 Series</th>\n",
       "      <th>Hyundai Solaris</th>\n",
       "      <th>Вектор приоритетов</th>\n",
       "    </tr>\n",
       "  </thead>\n",
       "  <tbody>\n",
       "    <tr>\n",
       "      <th>Kia Rio</th>\n",
       "      <td>1</td>\n",
       "      <td>1/3</td>\n",
       "      <td>1/2</td>\n",
       "      <td>1/2</td>\n",
       "      <td>1/4</td>\n",
       "      <td>1</td>\n",
       "      <td>0.074</td>\n",
       "    </tr>\n",
       "    <tr>\n",
       "      <th>Volkswagen Golf</th>\n",
       "      <td>3</td>\n",
       "      <td>1</td>\n",
       "      <td>2</td>\n",
       "      <td>2</td>\n",
       "      <td>1/2</td>\n",
       "      <td>3</td>\n",
       "      <td>0.228</td>\n",
       "    </tr>\n",
       "    <tr>\n",
       "      <th>Toyota Corolla</th>\n",
       "      <td>2</td>\n",
       "      <td>1/2</td>\n",
       "      <td>1</td>\n",
       "      <td>1</td>\n",
       "      <td>1/3</td>\n",
       "      <td>2</td>\n",
       "      <td>0.132</td>\n",
       "    </tr>\n",
       "    <tr>\n",
       "      <th>Skoda Octavia</th>\n",
       "      <td>2</td>\n",
       "      <td>1/2</td>\n",
       "      <td>1</td>\n",
       "      <td>1</td>\n",
       "      <td>1/3</td>\n",
       "      <td>2</td>\n",
       "      <td>0.132</td>\n",
       "    </tr>\n",
       "    <tr>\n",
       "      <th>BMW 3 Series</th>\n",
       "      <td>4</td>\n",
       "      <td>2</td>\n",
       "      <td>3</td>\n",
       "      <td>3</td>\n",
       "      <td>1</td>\n",
       "      <td>4</td>\n",
       "      <td>0.362</td>\n",
       "    </tr>\n",
       "    <tr>\n",
       "      <th>Hyundai Solaris</th>\n",
       "      <td>1</td>\n",
       "      <td>1/3</td>\n",
       "      <td>1/2</td>\n",
       "      <td>1/2</td>\n",
       "      <td>1/4</td>\n",
       "      <td>1</td>\n",
       "      <td>0.074</td>\n",
       "    </tr>\n",
       "  </tbody>\n",
       "</table>\n",
       "</div>"
      ]
     },
     "metadata": {},
     "output_type": "display_data"
    },
    {
     "data": {
      "text/plain": [
       "<IPython.core.display.Markdown object>"
      ],
      "text/markdown": "#### Максимальное собственное значение: $\\lambda_{max} = 6.0413$"
     },
     "metadata": {},
     "output_type": "display_data"
    },
    {
     "data": {
      "text/plain": [
       "<IPython.core.display.Markdown object>"
      ],
      "text/markdown": "#### Индекс согласованности: ИС = 0.0083"
     },
     "metadata": {},
     "output_type": "display_data"
    },
    {
     "data": {
      "text/plain": [
       "<IPython.core.display.Markdown object>"
      ],
      "text/markdown": "#### Отношение согласованности: ОС = 0.0067"
     },
     "metadata": {},
     "output_type": "display_data"
    },
    {
     "data": {
      "text/plain": [
       "<IPython.core.display.Markdown object>"
      ],
      "text/markdown": "Файл успешно сохранён: out\\Матрица_Альтернатив_Дизайн.xlsx"
     },
     "metadata": {},
     "output_type": "display_data"
    },
    {
     "data": {
      "text/plain": [
       "<IPython.core.display.HTML object>"
      ],
      "text/html": [
       "<hr>"
      ]
     },
     "metadata": {},
     "output_type": "display_data"
    },
    {
     "data": {
      "text/plain": [
       "<IPython.core.display.Markdown object>"
      ],
      "text/markdown": "### Критерий: Комфорт"
     },
     "metadata": {},
     "output_type": "display_data"
    },
    {
     "data": {
      "text/plain": [
       "<IPython.core.display.Markdown object>"
      ],
      "text/markdown": "#### Матрица парных сравнений для третьего уровня доминантной иерархии для Комфорт с векторами приоритетов"
     },
     "metadata": {},
     "output_type": "display_data"
    },
    {
     "data": {
      "text/plain": [
       "                 Kia Rio Volkswagen Golf Toyota Corolla Skoda Octavia  \\\n",
       "Kia Rio                1             1/2            1/3           1/2   \n",
       "Volkswagen Golf        2               1            1/2             1   \n",
       "Toyota Corolla         3               2              1             2   \n",
       "Skoda Octavia          2               1            1/2             1   \n",
       "BMW 3 Series           4               3              2             3   \n",
       "Hyundai Solaris        1             1/2            1/3           1/2   \n",
       "\n",
       "                BMW 3 Series  Hyundai Solaris  Вектор приоритетов  \n",
       "Kia Rio                  1/4                1               0.074  \n",
       "Volkswagen Golf          1/3                2               0.132  \n",
       "Toyota Corolla           1/2                3               0.228  \n",
       "Skoda Octavia            1/3                2               0.132  \n",
       "BMW 3 Series               1                4               0.362  \n",
       "Hyundai Solaris          1/4                1               0.074  "
      ],
      "text/html": [
       "<div>\n",
       "<style scoped>\n",
       "    .dataframe tbody tr th:only-of-type {\n",
       "        vertical-align: middle;\n",
       "    }\n",
       "\n",
       "    .dataframe tbody tr th {\n",
       "        vertical-align: top;\n",
       "    }\n",
       "\n",
       "    .dataframe thead th {\n",
       "        text-align: right;\n",
       "    }\n",
       "</style>\n",
       "<table border=\"1\" class=\"dataframe\">\n",
       "  <thead>\n",
       "    <tr style=\"text-align: right;\">\n",
       "      <th></th>\n",
       "      <th>Kia Rio</th>\n",
       "      <th>Volkswagen Golf</th>\n",
       "      <th>Toyota Corolla</th>\n",
       "      <th>Skoda Octavia</th>\n",
       "      <th>BMW 3 Series</th>\n",
       "      <th>Hyundai Solaris</th>\n",
       "      <th>Вектор приоритетов</th>\n",
       "    </tr>\n",
       "  </thead>\n",
       "  <tbody>\n",
       "    <tr>\n",
       "      <th>Kia Rio</th>\n",
       "      <td>1</td>\n",
       "      <td>1/2</td>\n",
       "      <td>1/3</td>\n",
       "      <td>1/2</td>\n",
       "      <td>1/4</td>\n",
       "      <td>1</td>\n",
       "      <td>0.074</td>\n",
       "    </tr>\n",
       "    <tr>\n",
       "      <th>Volkswagen Golf</th>\n",
       "      <td>2</td>\n",
       "      <td>1</td>\n",
       "      <td>1/2</td>\n",
       "      <td>1</td>\n",
       "      <td>1/3</td>\n",
       "      <td>2</td>\n",
       "      <td>0.132</td>\n",
       "    </tr>\n",
       "    <tr>\n",
       "      <th>Toyota Corolla</th>\n",
       "      <td>3</td>\n",
       "      <td>2</td>\n",
       "      <td>1</td>\n",
       "      <td>2</td>\n",
       "      <td>1/2</td>\n",
       "      <td>3</td>\n",
       "      <td>0.228</td>\n",
       "    </tr>\n",
       "    <tr>\n",
       "      <th>Skoda Octavia</th>\n",
       "      <td>2</td>\n",
       "      <td>1</td>\n",
       "      <td>1/2</td>\n",
       "      <td>1</td>\n",
       "      <td>1/3</td>\n",
       "      <td>2</td>\n",
       "      <td>0.132</td>\n",
       "    </tr>\n",
       "    <tr>\n",
       "      <th>BMW 3 Series</th>\n",
       "      <td>4</td>\n",
       "      <td>3</td>\n",
       "      <td>2</td>\n",
       "      <td>3</td>\n",
       "      <td>1</td>\n",
       "      <td>4</td>\n",
       "      <td>0.362</td>\n",
       "    </tr>\n",
       "    <tr>\n",
       "      <th>Hyundai Solaris</th>\n",
       "      <td>1</td>\n",
       "      <td>1/2</td>\n",
       "      <td>1/3</td>\n",
       "      <td>1/2</td>\n",
       "      <td>1/4</td>\n",
       "      <td>1</td>\n",
       "      <td>0.074</td>\n",
       "    </tr>\n",
       "  </tbody>\n",
       "</table>\n",
       "</div>"
      ]
     },
     "metadata": {},
     "output_type": "display_data"
    },
    {
     "data": {
      "text/plain": [
       "<IPython.core.display.Markdown object>"
      ],
      "text/markdown": "#### Максимальное собственное значение: $\\lambda_{max} = 6.0413$"
     },
     "metadata": {},
     "output_type": "display_data"
    },
    {
     "data": {
      "text/plain": [
       "<IPython.core.display.Markdown object>"
      ],
      "text/markdown": "#### Индекс согласованности: ИС = 0.0083"
     },
     "metadata": {},
     "output_type": "display_data"
    },
    {
     "data": {
      "text/plain": [
       "<IPython.core.display.Markdown object>"
      ],
      "text/markdown": "#### Отношение согласованности: ОС = 0.0067"
     },
     "metadata": {},
     "output_type": "display_data"
    },
    {
     "data": {
      "text/plain": [
       "<IPython.core.display.Markdown object>"
      ],
      "text/markdown": "Файл успешно сохранён: out\\Матрица_Альтернатив_Комфорт.xlsx"
     },
     "metadata": {},
     "output_type": "display_data"
    },
    {
     "data": {
      "text/plain": [
       "<IPython.core.display.HTML object>"
      ],
      "text/html": [
       "<hr>"
      ]
     },
     "metadata": {},
     "output_type": "display_data"
    },
    {
     "data": {
      "text/plain": [
       "<IPython.core.display.Markdown object>"
      ],
      "text/markdown": "### Критерий: Мощность"
     },
     "metadata": {},
     "output_type": "display_data"
    },
    {
     "data": {
      "text/plain": [
       "<IPython.core.display.Markdown object>"
      ],
      "text/markdown": "#### Матрица парных сравнений для третьего уровня доминантной иерархии для Мощность с векторами приоритетов"
     },
     "metadata": {},
     "output_type": "display_data"
    },
    {
     "data": {
      "text/plain": [
       "                 Kia Rio Volkswagen Golf Toyota Corolla Skoda Octavia  \\\n",
       "Kia Rio                1             1/3            1/2           1/2   \n",
       "Volkswagen Golf        3               1              2             2   \n",
       "Toyota Corolla         2             1/2              1             1   \n",
       "Skoda Octavia          2             1/2              1             1   \n",
       "BMW 3 Series           4               2              3             3   \n",
       "Hyundai Solaris        1             1/3            1/2           1/2   \n",
       "\n",
       "                BMW 3 Series  Hyundai Solaris  Вектор приоритетов  \n",
       "Kia Rio                  1/4                1               0.074  \n",
       "Volkswagen Golf          1/2                3               0.228  \n",
       "Toyota Corolla           1/3                2               0.132  \n",
       "Skoda Octavia            1/3                2               0.132  \n",
       "BMW 3 Series               1                4               0.362  \n",
       "Hyundai Solaris          1/4                1               0.074  "
      ],
      "text/html": [
       "<div>\n",
       "<style scoped>\n",
       "    .dataframe tbody tr th:only-of-type {\n",
       "        vertical-align: middle;\n",
       "    }\n",
       "\n",
       "    .dataframe tbody tr th {\n",
       "        vertical-align: top;\n",
       "    }\n",
       "\n",
       "    .dataframe thead th {\n",
       "        text-align: right;\n",
       "    }\n",
       "</style>\n",
       "<table border=\"1\" class=\"dataframe\">\n",
       "  <thead>\n",
       "    <tr style=\"text-align: right;\">\n",
       "      <th></th>\n",
       "      <th>Kia Rio</th>\n",
       "      <th>Volkswagen Golf</th>\n",
       "      <th>Toyota Corolla</th>\n",
       "      <th>Skoda Octavia</th>\n",
       "      <th>BMW 3 Series</th>\n",
       "      <th>Hyundai Solaris</th>\n",
       "      <th>Вектор приоритетов</th>\n",
       "    </tr>\n",
       "  </thead>\n",
       "  <tbody>\n",
       "    <tr>\n",
       "      <th>Kia Rio</th>\n",
       "      <td>1</td>\n",
       "      <td>1/3</td>\n",
       "      <td>1/2</td>\n",
       "      <td>1/2</td>\n",
       "      <td>1/4</td>\n",
       "      <td>1</td>\n",
       "      <td>0.074</td>\n",
       "    </tr>\n",
       "    <tr>\n",
       "      <th>Volkswagen Golf</th>\n",
       "      <td>3</td>\n",
       "      <td>1</td>\n",
       "      <td>2</td>\n",
       "      <td>2</td>\n",
       "      <td>1/2</td>\n",
       "      <td>3</td>\n",
       "      <td>0.228</td>\n",
       "    </tr>\n",
       "    <tr>\n",
       "      <th>Toyota Corolla</th>\n",
       "      <td>2</td>\n",
       "      <td>1/2</td>\n",
       "      <td>1</td>\n",
       "      <td>1</td>\n",
       "      <td>1/3</td>\n",
       "      <td>2</td>\n",
       "      <td>0.132</td>\n",
       "    </tr>\n",
       "    <tr>\n",
       "      <th>Skoda Octavia</th>\n",
       "      <td>2</td>\n",
       "      <td>1/2</td>\n",
       "      <td>1</td>\n",
       "      <td>1</td>\n",
       "      <td>1/3</td>\n",
       "      <td>2</td>\n",
       "      <td>0.132</td>\n",
       "    </tr>\n",
       "    <tr>\n",
       "      <th>BMW 3 Series</th>\n",
       "      <td>4</td>\n",
       "      <td>2</td>\n",
       "      <td>3</td>\n",
       "      <td>3</td>\n",
       "      <td>1</td>\n",
       "      <td>4</td>\n",
       "      <td>0.362</td>\n",
       "    </tr>\n",
       "    <tr>\n",
       "      <th>Hyundai Solaris</th>\n",
       "      <td>1</td>\n",
       "      <td>1/3</td>\n",
       "      <td>1/2</td>\n",
       "      <td>1/2</td>\n",
       "      <td>1/4</td>\n",
       "      <td>1</td>\n",
       "      <td>0.074</td>\n",
       "    </tr>\n",
       "  </tbody>\n",
       "</table>\n",
       "</div>"
      ]
     },
     "metadata": {},
     "output_type": "display_data"
    },
    {
     "data": {
      "text/plain": [
       "<IPython.core.display.Markdown object>"
      ],
      "text/markdown": "#### Максимальное собственное значение: $\\lambda_{max} = 6.0413$"
     },
     "metadata": {},
     "output_type": "display_data"
    },
    {
     "data": {
      "text/plain": [
       "<IPython.core.display.Markdown object>"
      ],
      "text/markdown": "#### Индекс согласованности: ИС = 0.0083"
     },
     "metadata": {},
     "output_type": "display_data"
    },
    {
     "data": {
      "text/plain": [
       "<IPython.core.display.Markdown object>"
      ],
      "text/markdown": "#### Отношение согласованности: ОС = 0.0067"
     },
     "metadata": {},
     "output_type": "display_data"
    },
    {
     "data": {
      "text/plain": [
       "<IPython.core.display.Markdown object>"
      ],
      "text/markdown": "Файл успешно сохранён: out\\Матрица_Альтернатив_Мощность.xlsx"
     },
     "metadata": {},
     "output_type": "display_data"
    },
    {
     "data": {
      "text/plain": [
       "<IPython.core.display.HTML object>"
      ],
      "text/html": [
       "<hr>"
      ]
     },
     "metadata": {},
     "output_type": "display_data"
    },
    {
     "data": {
      "text/plain": [
       "<IPython.core.display.Markdown object>"
      ],
      "text/markdown": "### Критерий: Год выпуска"
     },
     "metadata": {},
     "output_type": "display_data"
    },
    {
     "data": {
      "text/plain": [
       "<IPython.core.display.Markdown object>"
      ],
      "text/markdown": "#### Матрица парных сравнений для третьего уровня доминантной иерархии для Год выпуска с векторами приоритетов"
     },
     "metadata": {},
     "output_type": "display_data"
    },
    {
     "data": {
      "text/plain": [
       "                Kia Rio Volkswagen Golf Toyota Corolla Skoda Octavia  \\\n",
       "Kia Rio               1               3            1/2             1   \n",
       "Volkswagen Golf     1/3               1            1/3           1/3   \n",
       "Toyota Corolla        2               3              1             2   \n",
       "Skoda Octavia         1               3            1/2             1   \n",
       "BMW 3 Series        1/5             1/3            1/7           1/5   \n",
       "Hyundai Solaris     1/3               1            1/3           1/3   \n",
       "\n",
       "                 BMW 3 Series Hyundai Solaris  Вектор приоритетов  \n",
       "Kia Rio                     5               3               0.222  \n",
       "Volkswagen Golf             3               1               0.092  \n",
       "Toyota Corolla              7               3               0.333  \n",
       "Skoda Octavia               5               3               0.222  \n",
       "BMW 3 Series                1             1/3               0.039  \n",
       "Hyundai Solaris             3               1               0.092  "
      ],
      "text/html": [
       "<div>\n",
       "<style scoped>\n",
       "    .dataframe tbody tr th:only-of-type {\n",
       "        vertical-align: middle;\n",
       "    }\n",
       "\n",
       "    .dataframe tbody tr th {\n",
       "        vertical-align: top;\n",
       "    }\n",
       "\n",
       "    .dataframe thead th {\n",
       "        text-align: right;\n",
       "    }\n",
       "</style>\n",
       "<table border=\"1\" class=\"dataframe\">\n",
       "  <thead>\n",
       "    <tr style=\"text-align: right;\">\n",
       "      <th></th>\n",
       "      <th>Kia Rio</th>\n",
       "      <th>Volkswagen Golf</th>\n",
       "      <th>Toyota Corolla</th>\n",
       "      <th>Skoda Octavia</th>\n",
       "      <th>BMW 3 Series</th>\n",
       "      <th>Hyundai Solaris</th>\n",
       "      <th>Вектор приоритетов</th>\n",
       "    </tr>\n",
       "  </thead>\n",
       "  <tbody>\n",
       "    <tr>\n",
       "      <th>Kia Rio</th>\n",
       "      <td>1</td>\n",
       "      <td>3</td>\n",
       "      <td>1/2</td>\n",
       "      <td>1</td>\n",
       "      <td>5</td>\n",
       "      <td>3</td>\n",
       "      <td>0.222</td>\n",
       "    </tr>\n",
       "    <tr>\n",
       "      <th>Volkswagen Golf</th>\n",
       "      <td>1/3</td>\n",
       "      <td>1</td>\n",
       "      <td>1/3</td>\n",
       "      <td>1/3</td>\n",
       "      <td>3</td>\n",
       "      <td>1</td>\n",
       "      <td>0.092</td>\n",
       "    </tr>\n",
       "    <tr>\n",
       "      <th>Toyota Corolla</th>\n",
       "      <td>2</td>\n",
       "      <td>3</td>\n",
       "      <td>1</td>\n",
       "      <td>2</td>\n",
       "      <td>7</td>\n",
       "      <td>3</td>\n",
       "      <td>0.333</td>\n",
       "    </tr>\n",
       "    <tr>\n",
       "      <th>Skoda Octavia</th>\n",
       "      <td>1</td>\n",
       "      <td>3</td>\n",
       "      <td>1/2</td>\n",
       "      <td>1</td>\n",
       "      <td>5</td>\n",
       "      <td>3</td>\n",
       "      <td>0.222</td>\n",
       "    </tr>\n",
       "    <tr>\n",
       "      <th>BMW 3 Series</th>\n",
       "      <td>1/5</td>\n",
       "      <td>1/3</td>\n",
       "      <td>1/7</td>\n",
       "      <td>1/5</td>\n",
       "      <td>1</td>\n",
       "      <td>1/3</td>\n",
       "      <td>0.039</td>\n",
       "    </tr>\n",
       "    <tr>\n",
       "      <th>Hyundai Solaris</th>\n",
       "      <td>1/3</td>\n",
       "      <td>1</td>\n",
       "      <td>1/3</td>\n",
       "      <td>1/3</td>\n",
       "      <td>3</td>\n",
       "      <td>1</td>\n",
       "      <td>0.092</td>\n",
       "    </tr>\n",
       "  </tbody>\n",
       "</table>\n",
       "</div>"
      ]
     },
     "metadata": {},
     "output_type": "display_data"
    },
    {
     "data": {
      "text/plain": [
       "<IPython.core.display.Markdown object>"
      ],
      "text/markdown": "#### Максимальное собственное значение: $\\lambda_{max} = 6.1028$"
     },
     "metadata": {},
     "output_type": "display_data"
    },
    {
     "data": {
      "text/plain": [
       "<IPython.core.display.Markdown object>"
      ],
      "text/markdown": "#### Индекс согласованности: ИС = 0.0206"
     },
     "metadata": {},
     "output_type": "display_data"
    },
    {
     "data": {
      "text/plain": [
       "<IPython.core.display.Markdown object>"
      ],
      "text/markdown": "#### Отношение согласованности: ОС = 0.0166"
     },
     "metadata": {},
     "output_type": "display_data"
    },
    {
     "data": {
      "text/plain": [
       "<IPython.core.display.Markdown object>"
      ],
      "text/markdown": "Файл успешно сохранён: out\\Матрица_Альтернатив_Год выпуска.xlsx"
     },
     "metadata": {},
     "output_type": "display_data"
    },
    {
     "data": {
      "text/plain": [
       "<IPython.core.display.HTML object>"
      ],
      "text/html": [
       "<hr>"
      ]
     },
     "metadata": {},
     "output_type": "display_data"
    }
   ],
   "execution_count": 4
  },
  {
   "metadata": {},
   "cell_type": "markdown",
   "source": "# Расчёт глобальных приоритетов",
   "id": "517b2aa2d981680"
  },
  {
   "metadata": {
    "ExecuteTime": {
     "end_time": "2025-06-10T21:06:09.797331Z",
     "start_time": "2025-06-10T21:06:09.736849Z"
    }
   },
   "cell_type": "code",
   "source": [
    "global_priorities = count_global_priorities(priority_vectors_criteria['Вектор приоритетов'].to_numpy(), priority_vectors_alternatives)\n",
    "\n",
    "global_priorities_columns = []\n",
    "\n",
    "for i in range(number_criteria):\n",
    "    global_priorities_columns.append(f\"{names_criteria[i]} ({priority_vectors_criteria['Вектор приоритетов'].to_numpy()[i].round(3)})\")\n",
    "\n",
    "global_priorities_df = pd.DataFrame(\n",
    "    data=np.column_stack(priority_vectors_alternatives),\n",
    "    columns=global_priorities_columns,\n",
    "    index=names_alternatives\n",
    ")\n",
    "\n",
    "global_priorities_df['Глобальные приоритеты выбора'] = global_priorities\n",
    "display(Markdown(f\"#### Матрица глобальных приоритетов\"))\n",
    "display(global_priorities_df)\n",
    "save_global_priorities_to_excel(global_priorities_df, 'Глобальные приоритеты')\n",
    "display(HTML(\"<hr>\"))"
   ],
   "id": "b9ab1c0d492f3cd5",
   "outputs": [
    {
     "data": {
      "text/plain": [
       "<IPython.core.display.Markdown object>"
      ],
      "text/markdown": "#### Матрица глобальных приоритетов"
     },
     "metadata": {},
     "output_type": "display_data"
    },
    {
     "data": {
      "text/plain": [
       "                 Стоимость ТС (0.328)  Стоимость обслуживания ТС (0.159)  \\\n",
       "Kia Rio                         0.276                              0.179   \n",
       "Volkswagen Golf                 0.092                              0.101   \n",
       "Toyota Corolla                  0.157                              0.316   \n",
       "Skoda Octavia                   0.157                              0.179   \n",
       "BMW 3 Series                    0.043                              0.045   \n",
       "Hyundai Solaris                 0.276                              0.179   \n",
       "\n",
       "                 Надёжность (0.232)  Безопасность (0.107)  Дизайн (0.048)  \\\n",
       "Kia Rio                       0.097                 0.074           0.074   \n",
       "Volkswagen Golf               0.059                 0.132           0.228   \n",
       "Toyota Corolla                0.249                 0.228           0.132   \n",
       "Skoda Octavia                 0.157                 0.132           0.132   \n",
       "BMW 3 Series                  0.379                 0.362           0.362   \n",
       "Hyundai Solaris               0.059                 0.074           0.074   \n",
       "\n",
       "                 Комфорт (0.071)  Мощность (0.033)  Год выпуска (0.023)  \\\n",
       "Kia Rio                    0.074             0.074                0.222   \n",
       "Volkswagen Golf            0.132             0.228                0.092   \n",
       "Toyota Corolla             0.228             0.132                0.333   \n",
       "Skoda Octavia              0.132             0.132                0.222   \n",
       "BMW 3 Series               0.362             0.362                0.039   \n",
       "Hyundai Solaris            0.074             0.074                0.092   \n",
       "\n",
       "                 Глобальные приоритеты выбора  \n",
       "Kia Rio                                 0.166  \n",
       "Volkswagen Golf                         0.104  \n",
       "Toyota Corolla                          0.218  \n",
       "Skoda Octavia                           0.155  \n",
       "BMW 3 Series                            0.204  \n",
       "Hyundai Solaris                         0.154  "
      ],
      "text/html": [
       "<div>\n",
       "<style scoped>\n",
       "    .dataframe tbody tr th:only-of-type {\n",
       "        vertical-align: middle;\n",
       "    }\n",
       "\n",
       "    .dataframe tbody tr th {\n",
       "        vertical-align: top;\n",
       "    }\n",
       "\n",
       "    .dataframe thead th {\n",
       "        text-align: right;\n",
       "    }\n",
       "</style>\n",
       "<table border=\"1\" class=\"dataframe\">\n",
       "  <thead>\n",
       "    <tr style=\"text-align: right;\">\n",
       "      <th></th>\n",
       "      <th>Стоимость ТС (0.328)</th>\n",
       "      <th>Стоимость обслуживания ТС (0.159)</th>\n",
       "      <th>Надёжность (0.232)</th>\n",
       "      <th>Безопасность (0.107)</th>\n",
       "      <th>Дизайн (0.048)</th>\n",
       "      <th>Комфорт (0.071)</th>\n",
       "      <th>Мощность (0.033)</th>\n",
       "      <th>Год выпуска (0.023)</th>\n",
       "      <th>Глобальные приоритеты выбора</th>\n",
       "    </tr>\n",
       "  </thead>\n",
       "  <tbody>\n",
       "    <tr>\n",
       "      <th>Kia Rio</th>\n",
       "      <td>0.276</td>\n",
       "      <td>0.179</td>\n",
       "      <td>0.097</td>\n",
       "      <td>0.074</td>\n",
       "      <td>0.074</td>\n",
       "      <td>0.074</td>\n",
       "      <td>0.074</td>\n",
       "      <td>0.222</td>\n",
       "      <td>0.166</td>\n",
       "    </tr>\n",
       "    <tr>\n",
       "      <th>Volkswagen Golf</th>\n",
       "      <td>0.092</td>\n",
       "      <td>0.101</td>\n",
       "      <td>0.059</td>\n",
       "      <td>0.132</td>\n",
       "      <td>0.228</td>\n",
       "      <td>0.132</td>\n",
       "      <td>0.228</td>\n",
       "      <td>0.092</td>\n",
       "      <td>0.104</td>\n",
       "    </tr>\n",
       "    <tr>\n",
       "      <th>Toyota Corolla</th>\n",
       "      <td>0.157</td>\n",
       "      <td>0.316</td>\n",
       "      <td>0.249</td>\n",
       "      <td>0.228</td>\n",
       "      <td>0.132</td>\n",
       "      <td>0.228</td>\n",
       "      <td>0.132</td>\n",
       "      <td>0.333</td>\n",
       "      <td>0.218</td>\n",
       "    </tr>\n",
       "    <tr>\n",
       "      <th>Skoda Octavia</th>\n",
       "      <td>0.157</td>\n",
       "      <td>0.179</td>\n",
       "      <td>0.157</td>\n",
       "      <td>0.132</td>\n",
       "      <td>0.132</td>\n",
       "      <td>0.132</td>\n",
       "      <td>0.132</td>\n",
       "      <td>0.222</td>\n",
       "      <td>0.155</td>\n",
       "    </tr>\n",
       "    <tr>\n",
       "      <th>BMW 3 Series</th>\n",
       "      <td>0.043</td>\n",
       "      <td>0.045</td>\n",
       "      <td>0.379</td>\n",
       "      <td>0.362</td>\n",
       "      <td>0.362</td>\n",
       "      <td>0.362</td>\n",
       "      <td>0.362</td>\n",
       "      <td>0.039</td>\n",
       "      <td>0.204</td>\n",
       "    </tr>\n",
       "    <tr>\n",
       "      <th>Hyundai Solaris</th>\n",
       "      <td>0.276</td>\n",
       "      <td>0.179</td>\n",
       "      <td>0.059</td>\n",
       "      <td>0.074</td>\n",
       "      <td>0.074</td>\n",
       "      <td>0.074</td>\n",
       "      <td>0.074</td>\n",
       "      <td>0.092</td>\n",
       "      <td>0.154</td>\n",
       "    </tr>\n",
       "  </tbody>\n",
       "</table>\n",
       "</div>"
      ]
     },
     "metadata": {},
     "output_type": "display_data"
    },
    {
     "data": {
      "text/plain": [
       "<IPython.core.display.Markdown object>"
      ],
      "text/markdown": "Файл успешно сохранён: out\\Глобальные приоритеты.xlsx"
     },
     "metadata": {},
     "output_type": "display_data"
    },
    {
     "data": {
      "text/plain": [
       "<IPython.core.display.HTML object>"
      ],
      "text/html": [
       "<hr>"
      ]
     },
     "metadata": {},
     "output_type": "display_data"
    }
   ],
   "execution_count": 5
  }
 ],
 "metadata": {
  "kernelspec": {
   "display_name": "Python 3",
   "language": "python",
   "name": "python3"
  },
  "language_info": {
   "codemirror_mode": {
    "name": "ipython",
    "version": 2
   },
   "file_extension": ".py",
   "mimetype": "text/x-python",
   "name": "python",
   "nbconvert_exporter": "python",
   "pygments_lexer": "ipython2",
   "version": "2.7.6"
  }
 },
 "nbformat": 4,
 "nbformat_minor": 5
}
